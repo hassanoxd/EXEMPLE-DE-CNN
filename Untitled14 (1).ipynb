{
  "nbformat": 4,
  "nbformat_minor": 0,
  "metadata": {
    "colab": {
      "name": "Untitled14.ipynb",
      "provenance": [],
      "collapsed_sections": []
    },
    "kernelspec": {
      "name": "python3",
      "display_name": "Python 3"
    }
  },
  "cells": [
    {
      "cell_type": "markdown",
      "metadata": {
        "id": "nKM4fajIJdKI"
      },
      "source": [
        "**Image Classification using CNN**\r\n"
      ]
    },
    {
      "cell_type": "markdown",
      "metadata": {
        "id": "p-KAQreFJ1h6"
      },
      "source": [
        "Importing Data"
      ]
    },
    {
      "cell_type": "code",
      "metadata": {
        "id": "ufhm_XawDP6O"
      },
      "source": [
        "import tensorflow as tf\r\n",
        "import matplotlib.pyplot as plt\r\n",
        "from tensorflow.keras.datasets import cifar10"
      ],
      "execution_count": 1,
      "outputs": []
    },
    {
      "cell_type": "markdown",
      "metadata": {
        "id": "C4mYUyk6LHKW"
      },
      "source": [
        "loadin datast"
      ]
    },
    {
      "cell_type": "code",
      "metadata": {
        "colab": {
          "base_uri": "https://localhost:8080/"
        },
        "id": "3lUebeG8LJkx",
        "outputId": "38403bab-b451-4f3e-c62e-46c7b53ad677"
      },
      "source": [
        "# setting class names\r\n",
        "class_names=['airplane','automobile','bird','cat','deer','dog','frog','horse','ship','truck']\r\n",
        "#loading the dataset\r\n",
        "(x_train,y_train),(x_test,y_test)=cifar10.load_data()"
      ],
      "execution_count": 2,
      "outputs": [
        {
          "output_type": "stream",
          "text": [
            "Downloading data from https://www.cs.toronto.edu/~kriz/cifar-10-python.tar.gz\n",
            "170500096/170498071 [==============================] - 4s 0us/step\n"
          ],
          "name": "stdout"
        }
      ]
    },
    {
      "cell_type": "markdown",
      "metadata": {
        "id": "9qbz9lkOK9Jr"
      },
      "source": [
        "-Pre-Processing the Data:\r\n",
        "1-Normalizing the Images¶\r\n"
      ]
    },
    {
      "cell_type": "code",
      "metadata": {
        "colab": {
          "base_uri": "https://localhost:8080/"
        },
        "id": "fIha6xu3KOeA",
        "outputId": "12cd5357-be3e-4248-cfc5-ba024d5ed38f"
      },
      "source": [
        "x_train=x_train/255.0\r\n",
        "x_train.shape"
      ],
      "execution_count": 3,
      "outputs": [
        {
          "output_type": "execute_result",
          "data": {
            "text/plain": [
              "(50000, 32, 32, 3)"
            ]
          },
          "metadata": {
            "tags": []
          },
          "execution_count": 3
        }
      ]
    },
    {
      "cell_type": "code",
      "metadata": {
        "colab": {
          "base_uri": "https://localhost:8080/"
        },
        "id": "0jvVLvLZLaJQ",
        "outputId": "a4536efc-b4f5-4dcd-bf01-8df9b3f61ef4"
      },
      "source": [
        "x_test=x_test/255.0\r\n",
        "x_test.shape"
      ],
      "execution_count": 4,
      "outputs": [
        {
          "output_type": "execute_result",
          "data": {
            "text/plain": [
              "(10000, 32, 32, 3)"
            ]
          },
          "metadata": {
            "tags": []
          },
          "execution_count": 4
        }
      ]
    },
    {
      "cell_type": "code",
      "metadata": {
        "colab": {
          "base_uri": "https://localhost:8080/",
          "height": 283
        },
        "id": "DrYh_YimLdNn",
        "outputId": "5add8310-ad34-4f29-e4eb-85051dcc5bbf"
      },
      "source": [
        "plt.imshow(x_test[210])"
      ],
      "execution_count": 5,
      "outputs": [
        {
          "output_type": "execute_result",
          "data": {
            "text/plain": [
              "<matplotlib.image.AxesImage at 0x7f5d89f2c4e0>"
            ]
          },
          "metadata": {
            "tags": []
          },
          "execution_count": 5
        },
        {
          "output_type": "display_data",
          "data": {
            "image/png": "[encoded data removed]",
            "text/plain": [
              "<Figure size 432x288 with 1 Axes>"
            ]
          },
          "metadata": {
            "tags": [],
            "needs_background": "light"
          }
        }
      ]
    },
    {
      "cell_type": "code",
      "metadata": {
        "colab": {
          "base_uri": "https://localhost:8080/",
          "height": 283
        },
        "id": "D3U3oigSLzMD",
        "outputId": "d06966be-d90d-47a8-d213-4ecc97ac7b4c"
      },
      "source": [
        "plt.imshow(x_train[225])"
      ],
      "execution_count": 7,
      "outputs": [
        {
          "output_type": "execute_result",
          "data": {
            "text/plain": [
              "<matplotlib.image.AxesImage at 0x7f5d899e4cf8>"
            ]
          },
          "metadata": {
            "tags": []
          },
          "execution_count": 7
        },
        {
          "output_type": "display_data",
          "data": {
            "image/png": "[encoded data removed]",
            "text/plain": [
              "<Figure size 432x288 with 1 Axes>"
            ]
          },
          "metadata": {
            "tags": [],
            "needs_background": "light"
          }
        }
      ]
    },
    {
      "cell_type": "markdown",
      "metadata": {
        "id": "4Jo2LrvAMBl6"
      },
      "source": [
        "Building a Convolutional Neural Network¶\r\n"
      ]
    },
    {
      "cell_type": "code",
      "metadata": {
        "id": "GAVwfXjcL47i"
      },
      "source": [
        "cifar_model=tf.keras.models.Sequential()"
      ],
      "execution_count": 9,
      "outputs": []
    },
    {
      "cell_type": "code",
      "metadata": {
        "id": "e1iONnQcMs05"
      },
      "source": [
        "# First Layer\r\n",
        "cifar_model.add(tf.keras.layers.Conv2D(filters=32,kernel_size=3,padding=\"same\", activation=\"relu\", input_shape=[32,32,3]))"
      ],
      "execution_count": 12,
      "outputs": []
    },
    {
      "cell_type": "code",
      "metadata": {
        "id": "HduWlp0wMs4z"
      },
      "source": [
        "# Second Layer\r\n",
        "cifar_model.add(tf.keras.layers.Conv2D(filters=32,kernel_size=3,padding=\"same\", activation=\"relu\"))"
      ],
      "execution_count": 13,
      "outputs": []
    },
    {
      "cell_type": "code",
      "metadata": {
        "id": "yqyj2am3Ms8Q"
      },
      "source": [
        "# Max Pooling Layer\r\n",
        "cifar_model.add(tf.keras.layers.MaxPool2D(pool_size=2,strides=2,padding='valid'))"
      ],
      "execution_count": 14,
      "outputs": []
    },
    {
      "cell_type": "code",
      "metadata": {
        "id": "9UM0ZdeaMs_q"
      },
      "source": [
        "# Third Layer\r\n",
        "cifar_model.add(tf.keras.layers.Conv2D(filters=64,kernel_size=3,padding=\"same\", activation=\"relu\"))"
      ],
      "execution_count": 15,
      "outputs": []
    },
    {
      "cell_type": "code",
      "metadata": {
        "id": "cjC1BxPFMtJC"
      },
      "source": [
        "# Fourth Layer\r\n",
        "cifar_model.add(tf.keras.layers.Conv2D(filters=64,kernel_size=3,padding=\"same\", activation=\"relu\"))"
      ],
      "execution_count": 16,
      "outputs": []
    },
    {
      "cell_type": "code",
      "metadata": {
        "id": "YBUCmp1GOov4"
      },
      "source": [
        "# Max Pooling Layer\r\n",
        "cifar_model.add(tf.keras.layers.MaxPool2D(pool_size=2,strides=2,padding='valid'))"
      ],
      "execution_count": 18,
      "outputs": []
    },
    {
      "cell_type": "code",
      "metadata": {
        "id": "33I6WcfmOo0O"
      },
      "source": [
        "# Flattening Layer\r\n",
        "cifar_model.add(tf.keras.layers.Flatten())"
      ],
      "execution_count": 19,
      "outputs": []
    },
    {
      "cell_type": "code",
      "metadata": {
        "id": "HBknnH3LPelX"
      },
      "source": [
        "# Droput Layer\r\n",
        "cifar_model.add(tf.keras.layers.Dropout(0.5,noise_shape=None,seed=None))"
      ],
      "execution_count": 21,
      "outputs": []
    },
    {
      "cell_type": "code",
      "metadata": {
        "id": "CoFK_sjrPe52"
      },
      "source": [
        "# Adding the first fully connected layer\r\n",
        "cifar_model.add(tf.keras.layers.Dense(units=128,activation='relu'))"
      ],
      "execution_count": 24,
      "outputs": []
    },
    {
      "cell_type": "code",
      "metadata": {
        "id": "YhJD1NFjPyLK"
      },
      "source": [
        "# Adding the second fully connected layer\r\n",
        "cifar_model.add(tf.keras.layers.Dense(units=84,activation='relu'))"
      ],
      "execution_count": 25,
      "outputs": []
    },
    {
      "cell_type": "code",
      "metadata": {
        "id": "4Mt-fPr8PyRs"
      },
      "source": [
        "# Output Layer\r\n",
        "cifar_model.add(tf.keras.layers.Dense(units=10,activation='softmax'))"
      ],
      "execution_count": 26,
      "outputs": []
    },
    {
      "cell_type": "code",
      "metadata": {
        "colab": {
          "base_uri": "https://localhost:8080/"
        },
        "id": "O5GKEjo9QDwA",
        "outputId": "b8e9546e-f93f-46bb-bd5d-21d72c8beac7"
      },
      "source": [
        "cifar_model.summary()"
      ],
      "execution_count": 27,
      "outputs": [
        {
          "output_type": "stream",
          "text": [
            "Model: \"sequential_1\"\n",
            "_________________________________________________________________\n",
            "Layer (type)                 Output Shape              Param #   \n",
            "=================================================================\n",
            "conv2d (Conv2D)              (None, 32, 32, 32)        896       \n",
            "_________________________________________________________________\n",
            "conv2d_1 (Conv2D)            (None, 32, 32, 32)        9248      \n",
            "_________________________________________________________________\n",
            "max_pooling2d (MaxPooling2D) (None, 16, 16, 32)        0         \n",
            "_________________________________________________________________\n",
            "conv2d_2 (Conv2D)            (None, 16, 16, 64)        18496     \n",
            "_________________________________________________________________\n",
            "conv2d_3 (Conv2D)            (None, 16, 16, 64)        36928     \n",
            "_________________________________________________________________\n",
            "max_pooling2d_1 (MaxPooling2 (None, 8, 8, 64)          0         \n",
            "_________________________________________________________________\n",
            "max_pooling2d_2 (MaxPooling2 (None, 4, 4, 64)          0         \n",
            "_________________________________________________________________\n",
            "flatten (Flatten)            (None, 1024)              0         \n",
            "_________________________________________________________________\n",
            "dropout (Dropout)            (None, 1024)              0         \n",
            "_________________________________________________________________\n",
            "dense (Dense)                (None, 128)               131200    \n",
            "_________________________________________________________________\n",
            "dense_1 (Dense)              (None, 84)                10836     \n",
            "_________________________________________________________________\n",
            "dense_2 (Dense)              (None, 10)                850       \n",
            "=================================================================\n",
            "Total params: 208,454\n",
            "Trainable params: 208,454\n",
            "Non-trainable params: 0\n",
            "_________________________________________________________________\n"
          ],
          "name": "stdout"
        }
      ]
    },
    {
      "cell_type": "markdown",
      "metadata": {
        "id": "dmvEB-AGQah5"
      },
      "source": [
        "\r\n",
        "\r\n",
        "```\r\n",
        "Compiling the Model\r\n",
        "```\r\n",
        "\r\n"
      ]
    },
    {
      "cell_type": "code",
      "metadata": {
        "id": "3W6JiZMPQbOj"
      },
      "source": [
        "cifar_model.compile(loss=\"sparse_categorical_crossentropy\", optimizer=\"Adam\", metrics=[\"sparse_categorical_accuracy\"])\r\n"
      ],
      "execution_count": 28,
      "outputs": []
    },
    {
      "cell_type": "code",
      "metadata": {
        "colab": {
          "base_uri": "https://localhost:8080/"
        },
        "id": "Nov4UNl5QbSx",
        "outputId": "6ec1a0a3-9cd5-46f2-8a2d-0da7ff79a26d"
      },
      "source": [
        "cifar_model.fit(x_train,y_train,epochs=20)"
      ],
      "execution_count": 29,
      "outputs": [
        {
          "output_type": "stream",
          "text": [
            "Epoch 1/20\n",
            "1563/1563 [==============================] - 242s 155ms/step - loss: 1.5469 - sparse_categorical_accuracy: 0.4282\n",
            "Epoch 2/20\n",
            "1563/1563 [==============================] - 242s 155ms/step - loss: 1.1421 - sparse_categorical_accuracy: 0.5906\n",
            "Epoch 3/20\n",
            "1563/1563 [==============================] - 241s 154ms/step - loss: 0.9869 - sparse_categorical_accuracy: 0.6508\n",
            "Epoch 4/20\n",
            "1563/1563 [==============================] - 241s 154ms/step - loss: 0.8990 - sparse_categorical_accuracy: 0.6828\n",
            "Epoch 5/20\n",
            "1563/1563 [==============================] - 241s 154ms/step - loss: 0.8382 - sparse_categorical_accuracy: 0.7020\n",
            "Epoch 6/20\n",
            "1563/1563 [==============================] - 242s 155ms/step - loss: 0.8015 - sparse_categorical_accuracy: 0.7181\n",
            "Epoch 7/20\n",
            "1563/1563 [==============================] - 244s 156ms/step - loss: 0.7541 - sparse_categorical_accuracy: 0.7361\n",
            "Epoch 8/20\n",
            "1563/1563 [==============================] - 244s 156ms/step - loss: 0.7273 - sparse_categorical_accuracy: 0.7433\n",
            "Epoch 9/20\n",
            "1563/1563 [==============================] - 245s 157ms/step - loss: 0.6991 - sparse_categorical_accuracy: 0.7533\n",
            "Epoch 10/20\n",
            "1563/1563 [==============================] - 245s 157ms/step - loss: 0.6779 - sparse_categorical_accuracy: 0.7604\n",
            "Epoch 11/20\n",
            "1563/1563 [==============================] - 246s 158ms/step - loss: 0.6610 - sparse_categorical_accuracy: 0.7670\n",
            "Epoch 12/20\n",
            "1563/1563 [==============================] - 249s 159ms/step - loss: 0.6410 - sparse_categorical_accuracy: 0.7744\n",
            "Epoch 13/20\n",
            "1563/1563 [==============================] - 248s 159ms/step - loss: 0.6159 - sparse_categorical_accuracy: 0.7840\n",
            "Epoch 14/20\n",
            "1563/1563 [==============================] - 247s 158ms/step - loss: 0.6139 - sparse_categorical_accuracy: 0.7841\n",
            "Epoch 15/20\n",
            "1563/1563 [==============================] - 248s 158ms/step - loss: 0.5969 - sparse_categorical_accuracy: 0.7889\n",
            "Epoch 16/20\n",
            "1563/1563 [==============================] - 246s 157ms/step - loss: 0.5874 - sparse_categorical_accuracy: 0.7896\n",
            "Epoch 17/20\n",
            "1563/1563 [==============================] - 247s 158ms/step - loss: 0.5735 - sparse_categorical_accuracy: 0.7971\n",
            "Epoch 18/20\n",
            "1563/1563 [==============================] - 246s 158ms/step - loss: 0.5577 - sparse_categorical_accuracy: 0.8022\n",
            "Epoch 19/20\n",
            "1563/1563 [==============================] - 247s 158ms/step - loss: 0.5459 - sparse_categorical_accuracy: 0.8059\n",
            "Epoch 20/20\n",
            "1563/1563 [==============================] - 246s 158ms/step - loss: 0.5418 - sparse_categorical_accuracy: 0.8082\n"
          ],
          "name": "stdout"
        },
        {
          "output_type": "execute_result",
          "data": {
            "text/plain": [
              "<tensorflow.python.keras.callbacks.History at 0x7f5d8ab10828>"
            ]
          },
          "metadata": {
            "tags": []
          },
          "execution_count": 29
        }
      ]
    },
    {
      "cell_type": "code",
      "metadata": {
        "colab": {
          "base_uri": "https://localhost:8080/"
        },
        "id": "bcPX2amWQbXm",
        "outputId": "df839c72-5113-44dd-ca0b-75d53b842728"
      },
      "source": [
        "test_loss, test_accuracy = cifar_model.evaluate(x_test, y_test)"
      ],
      "execution_count": 31,
      "outputs": [
        {
          "output_type": "stream",
          "text": [
            "313/313 [==============================] - 13s 40ms/step - loss: 0.6169 - sparse_categorical_accuracy: 0.7895\n"
          ],
          "name": "stdout"
        }
      ]
    },
    {
      "cell_type": "code",
      "metadata": {
        "colab": {
          "base_uri": "https://localhost:8080/"
        },
        "id": "4w06x7-Nj3FG",
        "outputId": "a007a0bd-2fb6-4ca9-bce5-994a12f3fd53"
      },
      "source": [
        "print(\" accuracy: {}\".format(test_accuracy))\r\n"
      ],
      "execution_count": 32,
      "outputs": [
        {
          "output_type": "stream",
          "text": [
            " accuracy: 0.7894999980926514\n"
          ],
          "name": "stdout"
        }
      ]
    },
    {
      "cell_type": "code",
      "metadata": {
        "id": "1uJBhocTj-WQ"
      },
      "source": [
        "mport numpy as np\r\n",
        "from keras.preprocessing import image\r\n",
        "test_image = image.load_img('h.jpg', target_size = (64, 64))\r\n",
        "test_image = image.img_to_array(test_image)\r\n",
        "test_image = np.expand_dims(test_image, axis = 0)\r\n",
        "result = classifier.predict(test_image)"
      ],
      "execution_count": null,
      "outputs": []
    }
  ]
}